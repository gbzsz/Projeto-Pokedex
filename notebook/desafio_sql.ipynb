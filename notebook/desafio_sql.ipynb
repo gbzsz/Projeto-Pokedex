{
 "cells": [
  {
   "cell_type": "code",
   "execution_count": 1,
   "id": "fcd5069c",
   "metadata": {},
   "outputs": [
    {
     "name": "stdout",
     "output_type": "stream",
     "text": [
      "                      Name   Type 1  Attack\n",
      "0      MewtwoMega Mewtwo X  Psychic     190\n",
      "1  HeracrossMega Heracross      Bug     185\n",
      "2    GroudonPrimal Groudon   Ground     180\n",
      "3    RayquazaMega Rayquaza   Dragon     180\n",
      "4       DeoxysAttack Forme  Psychic     180\n"
     ]
    }
   ],
   "source": [
    "import pandas as pd\n",
    "import sqlite3\n",
    "\n",
    "df = pd.read_csv('../data/pokemon.csv')\n",
    "\n",
    "conn = sqlite3.connect(':memory:')\n",
    "df.to_sql('pokemon', conn, index=False, if_exists='replace')\n",
    "\n",
    "query = \"\"\"\n",
    "SELECT Name, \"Type 1\", Attack\n",
    "FROM pokemon\n",
    "ORDER BY Attack DESC\n",
    "LIMIT 5\n",
    "\"\"\"\n",
    "top_attack = pd.read_sql_query(query, conn)\n",
    "print(top_attack)\n"
   ]
  },
  {
   "cell_type": "code",
   "execution_count": 3,
   "id": "705f8929",
   "metadata": {},
   "outputs": [
    {
     "name": "stdout",
     "output_type": "stream",
     "text": [
      "      Type 1  media_hp\n",
      "0     Dragon     83.31\n",
      "1     Normal     77.28\n",
      "2      Fairy     74.12\n",
      "3     Ground     73.78\n",
      "4      Water     72.06\n",
      "5        Ice     72.00\n",
      "6     Flying     70.75\n",
      "7    Psychic     70.63\n",
      "8       Fire     69.90\n",
      "9   Fighting     69.85\n",
      "10     Grass     67.27\n",
      "11    Poison     67.25\n",
      "12      Dark     66.81\n",
      "13      Rock     65.36\n",
      "14     Steel     65.22\n",
      "15     Ghost     64.44\n",
      "16  Electric     59.80\n",
      "17       Bug     56.88\n"
     ]
    }
   ],
   "source": [
    "import pandas as pd\n",
    "import sqlite3\n",
    "\n",
    "df = pd.read_csv('../data/pokemon.csv')\n",
    "\n",
    "conn = sqlite3.connect(':memory:')\n",
    "df.to_sql('pokemon', conn, index=False, if_exists='replace')\n",
    "\n",
    "query = \"\"\"\n",
    "SELECT \"Type 1\", ROUND(AVG(HP), 2) AS media_hp\n",
    "FROM pokemon\n",
    "GROUP BY \"Type 1\"\n",
    "ORDER BY media_hp DESC\n",
    "\"\"\"\n",
    "top_attack = pd.read_sql_query(query, conn)\n",
    "print(top_attack)"
   ]
  },
  {
   "cell_type": "code",
   "execution_count": 6,
   "id": "7754e31b",
   "metadata": {},
   "outputs": [
    {
     "name": "stdout",
     "output_type": "stream",
     "text": [
      "   Generation  qtde_lendarios\n",
      "0           3              18\n",
      "1           5              15\n",
      "2           4              13\n",
      "3           6               8\n",
      "4           1               6\n",
      "5           2               5\n"
     ]
    }
   ],
   "source": [
    "import pandas as pd\n",
    "import sqlite3\n",
    "\n",
    "df = pd.read_csv('../data/pokemon.csv')\n",
    "\n",
    "conn = sqlite3.connect(':memory:')\n",
    "df.to_sql('pokemon', conn, index=False, if_exists='replace')\n",
    "\n",
    "query = \"\"\"\n",
    "SELECT Generation, COUNT(*) AS qtde_lendarios\n",
    "FROM pokemon\n",
    "WHERE Legendary = 1\n",
    "GROUP BY Generation\n",
    "ORDER BY qtde_lendarios DESC\\\n",
    "\"\"\"\n",
    "top_attack = pd.read_sql_query(query, conn)\n",
    "print(top_attack)"
   ]
  },
  {
   "cell_type": "code",
   "execution_count": 7,
   "id": "e21a6b55",
   "metadata": {},
   "outputs": [
    {
     "name": "stdout",
     "output_type": "stream",
     "text": [
      "      Type 1  quantidade\n",
      "0      Water         112\n",
      "1     Normal          98\n",
      "2      Grass          70\n",
      "3        Bug          69\n",
      "4    Psychic          57\n",
      "5       Fire          52\n",
      "6       Rock          44\n",
      "7   Electric          44\n",
      "8     Ground          32\n",
      "9      Ghost          32\n",
      "10    Dragon          32\n",
      "11      Dark          31\n",
      "12    Poison          28\n",
      "13     Steel          27\n",
      "14  Fighting          27\n",
      "15       Ice          24\n",
      "16     Fairy          17\n",
      "17    Flying           4\n"
     ]
    }
   ],
   "source": [
    "import pandas as pd\n",
    "import sqlite3\n",
    "\n",
    "df = pd.read_csv('../data/pokemon.csv')\n",
    "\n",
    "conn = sqlite3.connect(':memory:')\n",
    "df.to_sql('pokemon', conn, index=False, if_exists='replace')\n",
    "\n",
    "query = \"\"\"\n",
    "SELECT \"Type 1\", COUNT(*) AS quantidade\n",
    "FROM pokemon\n",
    "GROUP BY \"Type 1\"\n",
    "ORDER BY quantidade DESC\n",
    "\"\"\"\n",
    "top_attack = pd.read_sql_query(query, conn)\n",
    "print(top_attack)"
   ]
  },
  {
   "cell_type": "code",
   "execution_count": 8,
   "id": "7637ef13",
   "metadata": {},
   "outputs": [
    {
     "name": "stdout",
     "output_type": "stream",
     "text": [
      "      Type 2  quantidade\n",
      "0     Flying          97\n",
      "1     Ground          35\n",
      "2     Poison          34\n",
      "3    Psychic          33\n",
      "4   Fighting          26\n",
      "5      Grass          25\n",
      "6      Fairy          23\n",
      "7      Steel          22\n",
      "8       Dark          20\n",
      "9     Dragon          18\n",
      "10     Water          14\n",
      "11      Rock          14\n",
      "12       Ice          14\n",
      "13     Ghost          14\n",
      "14      Fire          12\n",
      "15  Electric           6\n",
      "16    Normal           4\n",
      "17       Bug           3\n"
     ]
    }
   ],
   "source": [
    "import pandas as pd\n",
    "import sqlite3\n",
    "\n",
    "df = pd.read_csv('../data/pokemon.csv')\n",
    "\n",
    "conn = sqlite3.connect(':memory:')\n",
    "df.to_sql('pokemon', conn, index=False, if_exists='replace')\n",
    "\n",
    "query = \"\"\"\n",
    "SELECT \"Type 2\", COUNT(*) AS quantidade\n",
    "FROM pokemon\n",
    "WHERE \"Type 2\" IS NOT NULL AND \"Type 2\" != ''\n",
    "GROUP BY \"Type 2\"\n",
    "ORDER BY quantidade DESC\n",
    "\"\"\"\n",
    "top_attack = pd.read_sql_query(query, conn)\n",
    "print(top_attack)"
   ]
  },
  {
   "cell_type": "code",
   "execution_count": 9,
   "id": "d1966030",
   "metadata": {},
   "outputs": [
    {
     "name": "stdout",
     "output_type": "stream",
     "text": [
      "      Type 1  media_speed\n",
      "0     Flying       102.50\n",
      "1   Electric        84.50\n",
      "2     Dragon        83.03\n",
      "3    Psychic        81.49\n",
      "4       Dark        76.16\n",
      "5       Fire        74.44\n",
      "6     Normal        71.55\n",
      "7   Fighting        66.07\n",
      "8      Water        65.96\n",
      "9      Ghost        64.34\n",
      "10    Ground        63.91\n",
      "11    Poison        63.57\n",
      "12       Ice        63.46\n",
      "13     Grass        61.93\n",
      "14       Bug        61.68\n",
      "15      Rock        55.91\n",
      "16     Steel        55.26\n",
      "17     Fairy        48.59\n"
     ]
    }
   ],
   "source": [
    "import pandas as pd\n",
    "import sqlite3\n",
    "\n",
    "df = pd.read_csv('../data/pokemon.csv')\n",
    "\n",
    "conn = sqlite3.connect(':memory:')\n",
    "df.to_sql('pokemon', conn, index=False, if_exists='replace')\n",
    "\n",
    "query = \"\"\"\n",
    "SELECT \"Type 1\", ROUND(AVG(Speed), 2) AS media_speed\n",
    "FROM pokemon\n",
    "GROUP BY \"Type 1\"\n",
    "ORDER BY media_speed DESC\n",
    "\"\"\"\n",
    "top_attack = pd.read_sql_query(query, conn)\n",
    "print(top_attack)"
   ]
  },
  {
   "cell_type": "code",
   "execution_count": 11,
   "id": "94eef8f3",
   "metadata": {},
   "outputs": [
    {
     "data": {
      "image/png": "[encoded data removed]",
      "text/plain": [
       "<Figure size 640x480 with 1 Axes>"
      ]
     },
     "metadata": {},
     "output_type": "display_data"
    }
   ],
   "source": [
    "import matplotlib.pyplot as plt\n",
    "\n",
    "df.groupby(\"Generation\")[\"Total\"].mean().plot(kind='bar', title='Média de Total de Stats por Geração')\n",
    "plt.ylabel(\"Total Médio\")\n",
    "plt.xlabel(\"Geração\")\n",
    "plt.grid(True)\n",
    "plt.tight_layout()\n",
    "plt.show()\n"
   ]
  }
 ],
 "metadata": {
  "kernelspec": {
   "display_name": "Python 3",
   "language": "python",
   "name": "python3"
  },
  "language_info": {
   "codemirror_mode": {
    "name": "ipython",
    "version": 3
   },
   "file_extension": ".py",
   "mimetype": "text/x-python",
   "name": "python",
   "nbconvert_exporter": "python",
   "pygments_lexer": "ipython3",
   "version": "3.13.3"
  }
 },
 "nbformat": 4,
 "nbformat_minor": 5
}
